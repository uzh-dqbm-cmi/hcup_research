{
 "cells": [
  {
   "cell_type": "code",
   "execution_count": null,
   "metadata": {},
   "outputs": [],
   "source": [
    "install.packages(\"cvAUC\") # install cvAUC package if not installed!\n"
   ]
  },
  {
   "cell_type": "code",
   "execution_count": null,
   "metadata": {},
   "outputs": [],
   "source": [
    "# load relevant libraries\n",
    "library(stringr)\n",
    "library(cvAUC)"
   ]
  },
  {
   "cell_type": "code",
   "execution_count": null,
   "metadata": {
    "scrolled": false
   },
   "outputs": [],
   "source": [
    "folders <- list.dirs(path=file.path(dirname(getwd()), 'decoded_output'), full.names=T)\n",
    "for (folder in folders){\n",
    "#     print(folder)\n",
    "    df = data.frame()\n",
    "    for (file in list.files(path=folder, pattern=\"*_upd.txt\", full.names=T, recursive=FALSE)){\n",
    "        train <- read.table(file, header=1,sep=\"\\t\")\n",
    "        train<- train[train[,'lastevent']==1,]\n",
    "        df <- rbind(df,train)\n",
    "    }\n",
    "    if(nrow(df)){\n",
    "        print(basename(folder))\n",
    "        rownames(df) <- 1:nrow(df)\n",
    "        # build folds_lst\n",
    "        folds_lst = list()\n",
    "        for (fold_i in 0:4){\n",
    "            folds_lst[fold_i+1] <- list(as.numeric(rownames(df[df[,'fold_id'] == stringr::str_interp(\"fold_${fold_i}_none\", list(fold_i = fold_i)), ])))\n",
    "#             print(length(folds_lst[[fold_i+1]]))\n",
    "        }\n",
    "        print(\"total records: \")\n",
    "        predictions <- df[\"prob_target1\"]\n",
    "        colnames(predictions)<-''\n",
    "        predictions_unlst <- unlist(predictions)\n",
    "        print(length(predictions_unlst))\n",
    "        labels = df[\"ref_target\"]\n",
    "        colnames(labels)<-''\n",
    "        labels_unlst <- unlist(labels)\n",
    "        if(length(labels_unlst) != length(predictions_unlst)){\n",
    "            print(\"Num records mismatch !!!\")\n",
    "        }\n",
    "        \n",
    "        res <- ci.cvAUC(predictions = predictions_unlst, \n",
    "                        labels = labels_unlst,\n",
    "                        folds = folds_lst, \n",
    "                        confidence = 0.95)   \n",
    "        cat(\"res: \\n\")\n",
    "        print(res)\n",
    "        cat(\"-------------------------- \\n\")\n",
    "    }                                    \n",
    "}\n"
   ]
  },
  {
   "cell_type": "code",
   "execution_count": null,
   "metadata": {},
   "outputs": [],
   "source": []
  }
 ],
 "metadata": {
  "kernelspec": {
   "display_name": "R",
   "language": "R",
   "name": "ir"
  },
  "language_info": {
   "codemirror_mode": "r",
   "file_extension": ".r",
   "mimetype": "text/x-r-source",
   "name": "R",
   "pygments_lexer": "r",
   "version": "3.5.1"
  }
 },
 "nbformat": 4,
 "nbformat_minor": 2
}
